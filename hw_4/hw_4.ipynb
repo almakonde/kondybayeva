{
  "nbformat": 4,
  "nbformat_minor": 0,
  "metadata": {
    "colab": {
      "provenance": []
    },
    "kernelspec": {
      "name": "python3",
      "display_name": "Python 3"
    },
    "language_info": {
      "name": "python"
    }
  },
  "cells": [
    {
      "cell_type": "markdown",
      "source": [
        "**Навигация по уроку**\n",
        "\n",
        "1. [ Функции. Классы и объекты. Програмные модули](https://colab.research.google.com/drive/1LtSAdLzWIP-xTADXIktKF9yxsh0ioEqN#scrollTo=O0dFTIuYGKI4)\n",
        "2. [Практика](https://colab.research.google.com/drive/1GblqLwJKMaNBV4cIyrbQqt7Rsf-7Bbx7)\n",
        "3. Домашняя работа"
      ],
      "metadata": {
        "id": "8LIWrmOPjBO6"
      }
    },
    {
      "cell_type": "markdown",
      "source": [
        "## Задача 1. Случайный номерной знак"
      ],
      "metadata": {
        "id": "Bh5tu_5BH-rG"
      }
    },
    {
      "cell_type": "markdown",
      "source": [
        "**Условие.** Представьте, что в вашем регионе устаревшим является формат номерных автомобильных знаков из трех букв, следом за которыми идут три цифры. Когда все номера такого шаблона закончились, было решено обновить формат, поставив в начало четыре цифры, а за ними три буквы.\n",
        "Напишите функцию, которая будет генерировать случайный номерной знак. При этом номера в старом и новом форматах должны создаваться примерно с одинаковой вероятностью. В основной программе нужно сгенерировать и вывести на экран случайный номерной знак."
      ],
      "metadata": {
        "id": "pLn92q_iLp_k"
      }
    },
    {
      "cell_type": "code",
      "execution_count": 7,
      "metadata": {
        "id": "El4o9_QWeq78",
        "colab": {
          "base_uri": "https://localhost:8080/"
        },
        "outputId": "4d93f3e9-d22b-42d7-a602-24fb3db43b8c"
      },
      "outputs": [
        {
          "output_type": "stream",
          "name": "stdout",
          "text": [
            "Случайный номерной знак: 6478WHT\n"
          ]
        }
      ],
      "source": [
        "#Напишите свое решение\n",
        "import random\n",
        "\n",
        "def generate_license_plate():\n",
        "    # Выбираем случайный формат (старый или новый) с равной вероятностью\n",
        "    is_old_format = random.choice([True, False])\n",
        "\n",
        "    if is_old_format:\n",
        "        # Генерируем номер в старом формате: три буквы + три цифры\n",
        "        letters = ''.join(random.choices('ABCDEFGHIJKLMNOPQRSTUVWXYZ', k=3))\n",
        "        numbers = ''.join(random.choices('0123456789', k=3))\n",
        "        license_plate = f\"{letters}{numbers}\"\n",
        "    else:\n",
        "        # Генерируем номер в новом формате: четыре цифры + три буквы\n",
        "        numbers = ''.join(random.choices('0123456789', k=4))\n",
        "        letters = ''.join(random.choices('ABCDEFGHIJKLMNOPQRSTUVWXYZ', k=3))\n",
        "        license_plate = f\"{numbers}{letters}\"\n",
        "\n",
        "    return license_plate\n",
        "\n",
        "# Генерируем и выводим случайный номерной знак\n",
        "random_license_plate = generate_license_plate()\n",
        "print(f\"Случайный номерной знак: {random_license_plate}\")\n"
      ]
    },
    {
      "cell_type": "markdown",
      "source": [
        "## Задача 2. Шестнадцатеричные и десятичные числа"
      ],
      "metadata": {
        "id": "I4wpSF3IMHdX"
      }
    },
    {
      "cell_type": "markdown",
      "source": [
        "**Условие.** Напишите две функции с  именами hex2int и  int2hex для конвертации\n",
        "значений из шестнадцатеричной системы счисления (0, 1, 2, 3, 4, 5, 6, 7, 8, 9, A, B, C, D, E и F) в десятичную (по основанию 10) и обратно. Функция hex2int должна принимать на вход строку с единственным символом в  шестнадцатеричной системе и  преобразовывать его в  число от нуля до 15 в десятичной системе, тогда как функция int2hex будет выполнять обратное действие – принимать десятичное число из диапазона от 0 до 15 и возвращать шестнадцатеричный эквивалент. Обе функции должны принимать единственный параметр со входным значением и возвращать преобразованное число. Удостоверьтесь, что функция hex2int корректно обрабатывает буквы в верхнем и нижнем регистрах. Если введенное пользователем значение выходит за допустимые границы, вы должны вывести сообщение об ошибке."
      ],
      "metadata": {
        "id": "mYg_KnVwMStB"
      }
    },
    {
      "cell_type": "code",
      "source": [
        "#Напишите свое решение\n",
        "def hex2int(hex_value):\n",
        "    try:\n",
        "        # Преобразуем шестнадцатеричное значение в десятичное\n",
        "        decimal_value = int(hex_value, 16)\n",
        "\n",
        "        # Проверяем, что результат в диапазоне от 0 до 15\n",
        "        if 0 <= decimal_value <= 15:\n",
        "            return decimal_value\n",
        "        else:\n",
        "            raise ValueError(\"Ошибка: Введенное значение выходит за допустимые границы (0-15).\")\n",
        "\n",
        "    except ValueError:\n",
        "        raise ValueError(\"Ошибка: Некорректное шестнадцатеричное значение.\")\n",
        "\n",
        "def int2hex(decimal_value):\n",
        "    try:\n",
        "        # Проверяем, что десятичное значение в диапазоне от 0 до 15\n",
        "        if 0 <= decimal_value <= 15:\n",
        "            # Преобразуем десятичное значение в шестнадцатеричное\n",
        "            hex_value = hex(decimal_value)[2:].upper()\n",
        "            return hex_value\n",
        "        else:\n",
        "            raise ValueError(\"Ошибка: Введенное значение выходит за допустимые границы (0-15).\")\n",
        "\n",
        "    except ValueError:\n",
        "        raise ValueError(\"Ошибка: Некорректное десятичное значение.\")\n",
        "\n",
        "# Пример использования\n",
        "try:\n",
        "    hex_input = input(\"Введите шестнадцатеричное значение (0-9, A-F): \").upper()\n",
        "    decimal_result = hex2int(hex_input)\n",
        "    print(f\"Десятичное значение: {decimal_result}\")\n",
        "\n",
        "    decimal_input = int(input(\"Введите десятичное значение (0-15): \"))\n",
        "    hex_result = int2hex(decimal_input)\n",
        "    print(f\"Шестнадцатеричное значение: {hex_result}\")\n",
        "\n",
        "except ValueError as e:\n",
        "    print(e)\n"
      ],
      "metadata": {
        "id": "j4R38AofMTBX",
        "colab": {
          "base_uri": "https://localhost:8080/"
        },
        "outputId": "628b7594-610e-4b56-ff29-6c9545e46761"
      },
      "execution_count": 10,
      "outputs": [
        {
          "output_type": "stream",
          "name": "stdout",
          "text": [
            "Введите шестнадцатеричное значение (0-9, A-F): A\n",
            "Десятичное значение: 10\n",
            "Введите десятичное значение (0-15): 14\n",
            "Шестнадцатеричное значение: E\n"
          ]
        }
      ]
    },
    {
      "cell_type": "markdown",
      "source": [
        "    hex(decimal_value): Эта часть кода преобразует десятичное число decimal_value в его шестнадцатеричное представление в виде строки. Например, если decimal_value равно 10, то hex(10) вернет строку '0xa'.\n",
        "\n",
        "    [2:]: Этот срез используется для исключения первых двух символов из строки, полученной в результате шестнадцатеричного преобразования. В шестнадцатеричной записи '0xa', '0x' - это префикс, и исключив его, мы получаем только символы, представляющие само значение (в данном случае, 'a').\n",
        "\n",
        "    .upper(): Этот метод преобразует все символы строки в верхний регистр. Это важно, так как шестнадцатеричные числа могут быть представлены как в верхнем, так и в нижнем регистре букв (например, 'a' и 'A' обозначают одно и то же значение). Это обеспечивает единообразие и предотвращает путаницу.\n",
        "\n",
        "Таким образом, выражение hex(decimal_value)[2:].upper() преобразует десятичное число в шестнадцатеричную строку и затем форматирует эту строку, чтобы она соответствовала стандарту, где буквы представлены в верхнем регистре, и удаляет префикс \"0x\".\n"
      ],
      "metadata": {
        "id": "m2h0P97OB1JT"
      }
    },
    {
      "cell_type": "markdown",
      "source": [
        "## Задача 3. Беспилотный автомобиль"
      ],
      "metadata": {
        "id": "RIOKyPjlMZA_"
      }
    },
    {
      "cell_type": "markdown",
      "source": [
        "**Условие.** Это творческая задача. Представьте, что вы проектируете беспилотный автомобиль. Вам необходимо продумать, какими свойствами он обладает и какие действия совершает. Создайте класс беспилотный автомобиль и сохраните его в виде программного модуля. Импортируете класс и инициализируйте новый объект.  "
      ],
      "metadata": {
        "id": "OlVQTKYrMZBA"
      }
    },
    {
      "cell_type": "code",
      "source": [
        "#Напишите свое решение\n",
        "# Создание файла car.py (ваш программный модуль)\n",
        "\n",
        "class AutonomousCar:\n",
        "    def __init__(self, make, model, year, autopilot_enabled=False):\n",
        "        self.make = make\n",
        "        self.model = model\n",
        "        self.year = year\n",
        "        self.autopilot_enabled = autopilot_enabled\n",
        "        self.speed = 0\n",
        "\n",
        "    def start(self):\n",
        "        print(f\"The {self.year} {self.make} {self.model} is starting.\")\n",
        "\n",
        "    def stop(self):\n",
        "        print(f\"The {self.year} {self.make} {self.model} is stopping.\")\n",
        "\n",
        "    def accelerate(self, speed_increase):\n",
        "        self.speed += speed_increase\n",
        "        print(f\"The {self.year} {self.make} {self.model} is accelerating to {self.speed} km/h.\")\n",
        "\n",
        "    def brake(self, speed_decrease):\n",
        "        self.speed -= speed_decrease\n",
        "        if self.speed < 0:\n",
        "            self.speed = 0\n",
        "        print(f\"The {self.year} {self.make} {self.model} is slowing down to {self.speed} km/h.\")\n",
        "\n",
        "    def engage_autopilot(self):\n",
        "        if self.autopilot_enabled:\n",
        "            print(f\"The autopilot is now engaged for the {self.year} {self.make} {self.model}.\")\n",
        "        else:\n",
        "            print(\"Error: Autopilot is not available for this car.\")\n",
        "\n",
        "# Инициализация объекта беспилотного автомобиля\n",
        "\n",
        "# Импорт класса из файла car.py\n",
        "#from car import AutonomousCar\n",
        "\n",
        "# Создание объекта\n",
        "my_autonomous_car = AutonomousCar(make=\"Tesla\", model=\"Model S\", year=2023, autopilot_enabled=True)\n",
        "\n",
        "# Вызов методов объекта\n",
        "my_autonomous_car.start()\n",
        "my_autonomous_car.accelerate(50)\n",
        "my_autonomous_car.engage_autopilot()\n",
        "my_autonomous_car.brake(20)\n",
        "my_autonomous_car.stop()\n"
      ],
      "metadata": {
        "id": "U2JxR4KOMZBA",
        "colab": {
          "base_uri": "https://localhost:8080/"
        },
        "outputId": "365c97d2-cf73-47ba-8d7d-8d49b6cc9994"
      },
      "execution_count": 12,
      "outputs": [
        {
          "output_type": "stream",
          "name": "stdout",
          "text": [
            "The 2023 Tesla Model S is starting.\n",
            "The 2023 Tesla Model S is accelerating to 50 km/h.\n",
            "The autopilot is now engaged for the 2023 Tesla Model S.\n",
            "The 2023 Tesla Model S is slowing down to 30 km/h.\n",
            "The 2023 Tesla Model S is stopping.\n"
          ]
        }
      ]
    }
  ]
}