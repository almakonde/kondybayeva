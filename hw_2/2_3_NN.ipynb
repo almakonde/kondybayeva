{
  "nbformat": 4,
  "nbformat_minor": 0,
  "metadata": {
    "colab": {
      "provenance": [],
      "toc_visible": true
    },
    "kernelspec": {
      "name": "python3",
      "display_name": "Python 3"
    },
    "language_info": {
      "name": "python"
    }
  },
  "cells": [
    {
      "cell_type": "markdown",
      "source": [
        "**Навигация по уроку**\n",
        "\n",
        "1. [Введение в Python. Синтаксис](https://colab.research.google.com/drive/1YBLgd6tZYlkhwpnEc4IM8tVnewLUnlUO#scrollTo=yqZjRAldfz_L)\n",
        "2. [Практика](https://colab.research.google.com/drive/1m-Ph90c-9S_gZchdG1ARoY2YjMTryKkl#scrollTo=UdxWiGmA63K2)\n",
        "3. Домашняя работа"
      ],
      "metadata": {
        "id": "ARGgA85EgS0p"
      }
    },
    {
      "cell_type": "markdown",
      "source": [
        "В домашней работе необходимо, используя знания теоретической части занятия и полученные практические навыки, решить, представленные ниже задачи. Для этого необходимо скопировать Блокнот (см. раздел 1.1.), решить в нем все задач, открыть общий доступ к Блокноту ((см. раздел 1.1.) и отправить ссылку на Блокнот куратору на проверку. Желаем удачи!"
      ],
      "metadata": {
        "id": "EdiQPIVgklWr"
      }
    },
    {
      "cell_type": "markdown",
      "source": [
        "## Задача 1. Приветствие."
      ],
      "metadata": {
        "id": "ZzjUAyrL6jgO"
      }
    },
    {
      "cell_type": "markdown",
      "source": [
        "**Условие.** Напишите программу, запрашивающую у пользователя его имя. В ответ\n",
        "на ввод на экране должно появиться приветствие с обращением по имени,\n",
        "введенному с клавиатуры ранее.\n"
      ],
      "metadata": {
        "id": "M4OAOB6s6mU7"
      }
    },
    {
      "cell_type": "code",
      "source": [
        "#Напишите свое решение\n",
        "# Запрос имени пользователя\n",
        "имя = input(\"Пожалуйста, введите ваше имя: \")\n",
        "\n",
        "# Вывод приветствия с обращением по имени\n",
        "print(f\"Привет, {имя}! Добро пожаловать!\")\n"
      ],
      "metadata": {
        "id": "C2W-ZDOF6mzF",
        "colab": {
          "base_uri": "https://localhost:8080/"
        },
        "outputId": "3c226959-1a54-4a42-e2d8-6d4585ea02e1"
      },
      "execution_count": null,
      "outputs": [
        {
          "output_type": "stream",
          "name": "stdout",
          "text": [
            "Пожалуйста, введите ваше имя: Алм\n",
            "Привет, Алм! Добро пожаловать!\n"
          ]
        }
      ]
    },
    {
      "cell_type": "markdown",
      "source": [],
      "metadata": {
        "id": "23m9uQoGd7Ks"
      }
    },
    {
      "cell_type": "markdown",
      "source": [
        "## Задача 2. Сувениры и безделушки."
      ],
      "metadata": {
        "id": "UG8mwj2-eALV"
      }
    },
    {
      "cell_type": "markdown",
      "source": [
        "**Условие.** Интернет-магазин занимается продажей различных сувениров и безделушек. Каждый сувенир весит 75 г, а безделушка – 112 г. Напишите программу, запрашивающую у пользователя количество тех и других покупок,\n",
        "после чего выведите на экран общий вес посылки.\n"
      ],
      "metadata": {
        "id": "ay2EfeBreALW"
      }
    },
    {
      "cell_type": "code",
      "source": [
        "#Напишите свое решение\n",
        "# Запрос количества сувениров и безделушек\n",
        "количество_сувениров = int(input(\"Введите количество сувениров: \"))\n",
        "количество_безделушек = int(input(\"Введите количество безделушек: \"))\n",
        "\n",
        "# Вес сувениров и безделушек\n",
        "вес_сувенира = 75  # граммы\n",
        "вес_безделушки = 112  # граммы\n",
        "\n",
        "# Рассчитываем общий вес посылки\n",
        "общий_вес = (количество_сувениров * вес_сувенира) + (количество_безделушек * вес_безделушки)\n",
        "\n",
        "# Выводим общий вес\n",
        "print(f\"Общий вес посылки составляет {общий_вес} грамм.\")\n"
      ],
      "metadata": {
        "id": "WY-KRVHyeALX",
        "colab": {
          "base_uri": "https://localhost:8080/"
        },
        "outputId": "fff3179c-369c-49b5-9f97-2ecf91240f17"
      },
      "execution_count": null,
      "outputs": [
        {
          "output_type": "stream",
          "name": "stdout",
          "text": [
            "Введите количество сувениров: 453\n",
            "Введите количество безделушек: 234\n",
            "Общий вес посылки составляет 60183 грамм.\n"
          ]
        }
      ]
    },
    {
      "cell_type": "markdown",
      "source": [
        "## Задача 3. Сложные проценты"
      ],
      "metadata": {
        "id": "v2IXqDTVeBfM"
      }
    },
    {
      "cell_type": "markdown",
      "source": [
        "**Условие.** Представьте, что вы открыли в банке сберегательный счет под 4 % годовых. Проценты банк рассчитывает в конце года и добавляет к сумме счета.\n",
        "Напишите программу, которая запрашивает у пользователя сумму первоначального депозита, после чего рассчитывает и выводит на экран сумму\n",
        "на счету в конце первого, второго и третьего годов. Все суммы должны\n",
        "быть округлены до двух знаков после запятой.\n",
        "\n"
      ],
      "metadata": {
        "id": "rGE3sh2ueBfN"
      }
    },
    {
      "cell_type": "code",
      "source": [
        "#Напишите свое решение\n",
        "# Запрос суммы первоначального депозита\n",
        "initial_deposit = float(input(\"Введите сумму первоначального депозита: \"))\n",
        "\n",
        "# Годовая процентная ставка\n",
        "annual_interest_rate = 0.04  # 4% в год\n",
        "\n",
        "# Рассчитываем сумму на счету в конце первого, второго и третьего года\n",
        "balance_year1 = initial_deposit * (1 + annual_interest_rate)\n",
        "balance_year2 = balance_year1 * (1 + annual_interest_rate)\n",
        "balance_year3 = balance_year2 * (1 + annual_interest_rate)\n",
        "\n",
        "# Округляем суммы до двух знаков после запятой\n",
        "balance_year1 = round(balance_year1, 2)\n",
        "balance_year2 = round(balance_year2, 2)\n",
        "balance_year3 = round(balance_year3, 2)\n",
        "\n",
        "# Выводим суммы на счету\n",
        "print(f\"Сумма на счету в конце первого года: RUB {balance_year1}\")\n",
        "print(f\"Сумма на счету в конце второго года: RUB {balance_year2}\")\n",
        "print(f\"Сумма на счету в конце третьего года: RUB {balance_year3}\")\n",
        "\n",
        "def recursive_percents(initial_deposit, annual_interest_rate, year):\n",
        "  if (year == 1) :\n",
        "    return initial_deposit * (1 + annual_interest_rate)\n",
        "  else:\n",
        "    previous_result_balance = recursive_percents(initial_deposit, annual_interest_rate, year - 1)\n",
        "    return previous_result_balance * (1 + annual_interest_rate)\n",
        "print(f\"Сумма на счету в конце первого года: RUB {recursive_percents(initial_deposit, annual_interest_rate, year = 1)}\")\n",
        "print(f\"Сумма на счету в конце второго года: RUB {recursive_percents(initial_deposit, annual_interest_rate, year = 2)}\")\n",
        "print(f\"Сумма на счету в конце третьего года: RUB {recursive_percents(initial_deposit, annual_interest_rate, year = 3)}\")\n",
        "\n",
        "\n",
        "def cycle_rate_calc(initial_deposit, annual_interest_rate, year):\n",
        "  index = 0\n",
        "  result = initial_deposit\n",
        "  while(index < year) :\n",
        "    result = result * (1 + annual_interest_rate)\n",
        "    index = index + 1\n",
        "  return result\n",
        "\n",
        "print(f\"Сумма на счету в конце первого года: RUB {cycle_rate_calc(initial_deposit, annual_interest_rate, year = 1)}\")\n",
        "print(f\"Сумма на счету в конце второго года: RUB {cycle_rate_calc(initial_deposit, annual_interest_rate, year = 2)}\")\n",
        "print(f\"Сумма на счету в конце третьего года: RUB {cycle_rate_calc(initial_deposit, annual_interest_rate, year = 3)}\")"
      ],
      "metadata": {
        "id": "0DYIIu98eBfN",
        "colab": {
          "base_uri": "https://localhost:8080/"
        },
        "outputId": "625a694f-e25d-4698-9e37-75d746d25660"
      },
      "execution_count": 15,
      "outputs": [
        {
          "output_type": "stream",
          "name": "stdout",
          "text": [
            "Введите сумму первоначального депозита: 1000\n",
            "Сумма на счету в конце первого года: RUB 1040.0\n",
            "Сумма на счету в конце второго года: RUB 1081.6\n",
            "Сумма на счету в конце третьего года: RUB 1124.86\n",
            "Сумма на счету в конце первого года: RUB 1040.0\n",
            "Сумма на счету в конце второго года: RUB 1081.6000000000001\n",
            "Сумма на счету в конце третьего года: RUB 1124.8640000000003\n",
            "Сумма на счету в конце первого года: RUB 1040.0\n",
            "Сумма на счету в конце второго года: RUB 1081.6000000000001\n",
            "Сумма на счету в конце третьего года: RUB 1124.8640000000003\n"
          ]
        }
      ]
    },
    {
      "cell_type": "markdown",
      "source": [
        "## Задача 4. Арифметика"
      ],
      "metadata": {
        "id": "d9y6YzAvuW4l"
      }
    },
    {
      "cell_type": "markdown",
      "source": [
        "**Условие.** Создайте программу, которая запрашивает у пользователя два целых числа a и b, после чего выводит на экран результаты следующих математических операций:\n",
        "* сумма a и b;\n",
        "* разница между a и b;\n",
        "* произведение a и b;\n",
        "* частное от деления a на b;\n",
        "* остаток от деления a на b;\n",
        "* десятичный логарифм числа a;\n",
        "* результат возведения числа a в степень b."
      ],
      "metadata": {
        "id": "ZeZZ2IrUuW4m"
      }
    },
    {
      "cell_type": "code",
      "source": [
        "#Напишите свое решение\n",
        "import math\n",
        "\n",
        "a = int(input(\"Введите ваше значение для а: \"))\n",
        "b = int(input(\"Введите ваше значение для b: \"))\n",
        "\n",
        "def sum(a, b):\n",
        "  return a + b\n",
        "def difference(a, b):\n",
        "  return a - b\n",
        "def multiple(a, b):\n",
        "  return a * b\n",
        "def quotient(a, b):\n",
        "  return a / b\n",
        "def remainder(a, b):\n",
        "  return a % b\n",
        "def logarithm(a):\n",
        "  return math.log10(abs(a))\n",
        "def power(x, y):\n",
        "    if(y == 0):\n",
        "        return 1\n",
        "    temp = power(x, int(y / 2))\n",
        "\n",
        "    if (y % 2 == 0):\n",
        "        return temp * temp\n",
        "    else:\n",
        "        if(y > 0):\n",
        "            return x * temp * temp\n",
        "        else:\n",
        "            return (temp * temp) / x\n",
        "\n",
        "print(f\"Сумма a и b: {sum(a,b)}\")\n",
        "print(f\"Разница между a и b: {difference(a, b)}\")\n",
        "print(f\"Произведение a и b: {multiple(a,b)}\")\n",
        "print(f\"Частное от деления a на b: {quotient(a,b)}\")\n",
        "print(f\"Остаток от деления a на b: {remainder(a,b)}\")\n",
        "print(f\"Десятичный логарифм числа a: {logarithm(a)}\")\n",
        "print(f\"Результат возведения числа a в степень b: {power(a,b)}\")"
      ],
      "metadata": {
        "id": "gCbjinmpuW4m",
        "colab": {
          "base_uri": "https://localhost:8080/"
        },
        "outputId": "8b932668-109b-4a67-b119-9c827010d5fa"
      },
      "execution_count": 3,
      "outputs": [
        {
          "output_type": "stream",
          "name": "stdout",
          "text": [
            "Введите ваше значение для а: 5\n",
            "Введите ваше значение для b: 4\n",
            "Сумма a и b: 9\n",
            "Разница между a и b: 1\n",
            "Произведение a и b: 20\n",
            "Частное от деления a на b: 1.25\n",
            "Остаток от деления a на b: 1\n",
            "Десятичный логарифм числа a: 0.6989700043360189\n",
            "Результат возведения числа a в степень b: 625\n"
          ]
        }
      ]
    },
    {
      "cell_type": "markdown",
      "source": [
        "## Задача 5. Размен"
      ],
      "metadata": {
        "id": "EcSSCSnpeBto"
      }
    },
    {
      "cell_type": "markdown",
      "source": [
        "**Условие.** Представьте, что вы пишете программное обеспечение для автоматической кассы в  магазине самообслуживания. Одной из функций, заложенных в кассу, должен быть расчет сдачи в случае оплаты покупателем наличными.\n",
        "Напишите программу, которая будет запрашивать у пользователя сумму сдачи в копейках. После этого она должна рассчитать и вывести на экран, сколько и каких монет потребуется для выдачи указанной суммы, при условии что должно быть задействовано минимально возможное количество монет. Допустим, у нас есть в распоряжении монеты достоинством в 1, 5, 10, 50 копеек, а также в 1, 2 и 5 рублей.\n"
      ],
      "metadata": {
        "id": "VfX5FQQreBtp"
      }
    },
    {
      "cell_type": "code",
      "source": [
        "#Напишите свое решение\n",
        "def give_change(change_in_kopecks):\n",
        "    denominations = [500, 200, 100, 50, 10, 5, 1]\n",
        "    names = ['5 руб', '2 руб', '1 руб', '50 копеек', '10 копеек', '5 копеек', '1 копеек']\n",
        "    change = {name: 0 for name in names}\n",
        "    change_in_kopecks += (change.get('5 руб', 0) * 500) + (change.get('2 руб', 0) * 200) + (change.get('1 руб', 0) * 100)\n",
        "    for i in range(len(denominations)):\n",
        "        denomination = denominations[i]\n",
        "        name = names[i]\n",
        "        #выбираем самые большие номиналы\n",
        "        while change_in_kopecks >= denomination:\n",
        "            change[name] += 1\n",
        "            change_in_kopecks -= denomination\n",
        "\n",
        "    return change\n",
        "\n",
        "# Запросить у пользователя сумму изменения в копейках\n",
        "change_input = float(input(\"Введите сумму сдачи через точку в копейках  в формате РУБЛИ.КОПЕЙКИ: \"))\n",
        "def input_processing(input):\n",
        "  return input * 100\n",
        "\n",
        "# Вызовите функцию, чтобы дать сдачу\n",
        "change = give_change(input_processing(change_input))\n",
        "\n",
        "# Отображение результата\n",
        "print(\"Чтобы сдать сдачу, вам понадобится:\")\n",
        "for name, quantity in change.items():\n",
        "    if quantity > 0:\n",
        "        print(f\"{quantity} x {name}\")\n"
      ],
      "metadata": {
        "id": "4ecMH2bjeBtp",
        "colab": {
          "base_uri": "https://localhost:8080/"
        },
        "outputId": "76769c43-7252-4a7e-8142-b1eabc764426"
      },
      "execution_count": 13,
      "outputs": [
        {
          "output_type": "stream",
          "name": "stdout",
          "text": [
            "Введите сумму сдачи через точку в копейках  в формате РУБЛИ.КОПЕЙКИ: 6.5\n",
            "Чтобы сдать сдачу, вам понадобится:\n",
            "1 x 5 руб\n",
            "1 x 1 руб\n",
            "1 x 50 копеек\n"
          ]
        }
      ]
    },
    {
      "cell_type": "markdown",
      "source": [
        "## Задача 6. Вчерашний хлеб"
      ],
      "metadata": {
        "id": "26soP3cfeB8i"
      }
    },
    {
      "cell_type": "markdown",
      "source": [
        "**Условие.** Пекарня продает хлеб по 49 рублей за буханку. Скидка на вчерашний хлеб составляет 60 %. Напишите программу, которая будет запрашивать у пользователя количество приобретенных вчерашних буханок хлеба. В вывод на экран должны быть включены обычная цена за буханку, цена со скидкой и общая стоимость приобретенного хлеба. Все значения должны быть выведены на отдельных строках с соответствующими описаниями. Используйте для вывода формат с двумя знаками после запятой и выровненным разделителем.\n"
      ],
      "metadata": {
        "id": "t-cYNmWQeB8i"
      }
    },
    {
      "cell_type": "code",
      "source": [
        "#Напишите свое решение\n",
        "# Стоимость одной буханки хлеба\n",
        "bread_price = 49  # в рублях\n",
        "\n",
        "# Скидка на вчерашний хлеб (в процентах)\n",
        "discount = 60\n",
        "\n",
        "# Запрос количества вчерашних буханок у пользователя\n",
        "num_loaves = int(input(\"Введите количество вчерашних буханок хлеба: \"))\n",
        "\n",
        "# Рассчет цены со скидкой\n",
        "price_with_discount = bread_price * (1 - discount / 100)\n",
        "\n",
        "# Рассчет общей стоимости\n",
        "total_cost = num_loaves * price_with_discount\n",
        "\n",
        "# Вывод результатов\n",
        "print(f\"Обычная цена за буханку: {bread_price:.2f} руб.\")\n",
        "print(f\"Цена со скидкой: {price_with_discount:.2f} руб.\")\n",
        "print(f\"Общая стоимость: {total_cost:.2f} руб.\")\n"
      ],
      "metadata": {
        "id": "R2-WoQoveB8j",
        "colab": {
          "base_uri": "https://localhost:8080/"
        },
        "outputId": "805869c9-3a2e-4956-c4ee-8efa67cbac99"
      },
      "execution_count": 14,
      "outputs": [
        {
          "output_type": "stream",
          "name": "stdout",
          "text": [
            "Введите количество вчерашних буханок хлеба: 2\n",
            "Обычная цена за буханку: 49.00 руб.\n",
            "Цена со скидкой: 19.60 руб.\n",
            "Общая стоимость: 39.20 руб.\n"
          ]
        }
      ]
    }
  ]
}