{
  "nbformat": 4,
  "nbformat_minor": 0,
  "metadata": {
    "colab": {
      "provenance": []
    },
    "kernelspec": {
      "name": "python3",
      "display_name": "Python 3"
    },
    "language_info": {
      "name": "python"
    }
  },
  "cells": [
    {
      "cell_type": "markdown",
      "source": [
        "**Навигация по уроку**\n",
        "\n",
        "1. [Нейронные сети. Математическая модель нейрона.](https://colab.research.google.com/drive/1XXxO2vyd9IDYT23tQrVMAAYeHYn-Awww)\n",
        "2. [Нейронные сети. Функции активации](https://colab.research.google.com/drive/1mhEEhb3mdE5mKFIvOiC5tHvkPiWD8DBj)\n",
        "3. Домашняя работа"
      ],
      "metadata": {
        "id": "8LIWrmOPjBO6"
      }
    },
    {
      "cell_type": "markdown",
      "source": [
        "## Задача 1. Класс Neuron"
      ],
      "metadata": {
        "id": "B5IghQAm20sG"
      }
    },
    {
      "cell_type": "markdown",
      "source": [
        "**Условие** Используя примеры из теоретической части 5.1 и 5.2, составьте класс Neuron модели нейрона, принимающего на вход от одного до 10 входных параметров. Для последнего параметра используется вес $x_n$ = 1, таким образом $w_n=b$ - является смещением. Запрещается пользоваться библиотекой numpy. На вход подается список. Матричное умножение реализуется с помощью циклов самостоятельно. Класс содержит методы для вычисления взвешенной суммы, а также содержит функции активации из урока."
      ],
      "metadata": {
        "id": "BxRUPNKFrxow"
      }
    },
    {
      "cell_type": "code",
      "execution_count": 4,
      "metadata": {
        "id": "El4o9_QWeq78",
        "colab": {
          "base_uri": "https://localhost:8080/"
        },
        "outputId": "a780023e-8a31-4d88-ddf6-bfb072335e59"
      },
      "outputs": [
        {
          "output_type": "stream",
          "name": "stdout",
          "text": [
            "Взвешенная сумма: 0.91\n",
            "Результат ступенчатой функции активации: 1\n",
            "Результат сигмоидальной функции активации: 0.7130001627522816\n"
          ]
        }
      ],
      "source": [
        "#Напишите свое решение\n",
        "class Neuron:\n",
        "    def __init__(self, weights, bias):\n",
        "        self.weights = weights\n",
        "        self.bias = bias\n",
        "\n",
        "    def weighted_sum(self, inputs):\n",
        "        # Проверяем, что количество весов и входных параметров совпадает\n",
        "        if len(self.weights) != len(inputs):\n",
        "            raise ValueError(\"Количество весов должно быть равно количеству входных параметров.\")\n",
        "\n",
        "        # Вычисляем взвешенную сумму\n",
        "        weighted_sum = self.bias\n",
        "        for i in range(len(inputs)):\n",
        "            weighted_sum += self.weights[i] * inputs[i]\n",
        "\n",
        "        return weighted_sum\n",
        "\n",
        "    def step_activation(self, weighted_sum):\n",
        "        # Функция активации - ступенчатая функция (пороговая)\n",
        "        return 1 if weighted_sum >= 0 else 0\n",
        "\n",
        "    def sigmoid_activation(self, weighted_sum):\n",
        "        # Функция активации - сигмоидальная функция\n",
        "        import math\n",
        "        return 1 / (1 + math.exp(-weighted_sum))\n",
        "\n",
        "# Пример использования\n",
        "if __name__ == \"__main__\":\n",
        "    # Создаем объект нейрона с тремя весами и смещением\n",
        "    neuron = Neuron(weights=[0.5, -0.2, 0.1], bias=0.5)\n",
        "\n",
        "    # Пример входных параметров\n",
        "    inputs = [0.3, -0.8, 1.0]\n",
        "\n",
        "    # Вычисляем взвешенную сумму\n",
        "    weighted_sum_result = neuron.weighted_sum(inputs)\n",
        "    print(\"Взвешенная сумма:\", weighted_sum_result)\n",
        "\n",
        "    # Применяем функцию активации (ступенчатая)\n",
        "    step_activation_result = neuron.step_activation(weighted_sum_result)\n",
        "    print(\"Результат ступенчатой функции активации:\", step_activation_result)\n",
        "\n",
        "    # Применяем функцию активации (сигмоидальная)\n",
        "    sigmoid_activation_result = neuron.sigmoid_activation(weighted_sum_result)\n",
        "    print(\"Результат сигмоидальной функции активации:\", sigmoid_activation_result)\n"
      ]
    },
    {
      "cell_type": "markdown",
      "source": [
        "## Задача 2. Класс Neuron (продолжение)"
      ],
      "metadata": {
        "id": "BXPoR8av3AUx"
      }
    },
    {
      "cell_type": "markdown",
      "source": [
        "**Условие.** Используя класс Neuron из первой задачи, придумать свой пример на принятие решения (по аналогии с задачей \"о рыбаке и рыбке\"), не менее 4 входных параметров, веса установить произвольно из логики задачи, произвести расчёт функций активаций, определённых в классе первой задачи."
      ],
      "metadata": {
        "id": "KLC5Gv3L3CP_"
      }
    },
    {
      "cell_type": "code",
      "source": [
        "# Импортируем класс Neuron из предыдущего примера\n",
        "\n",
        "# Создаем объект нейрона с произвольными весами и смещением\n",
        "neuron_cafe_decision = Neuron(weights=[0.5, 0.3, -0.2, 0.4], bias=0.1)\n",
        "\n",
        "# Входные параметры для решения об открытии кафе\n",
        "weather = -3  # теплая погода\n",
        "cafe_rating = 2  # высокий рейтинг кафе\n",
        "ingredient_availability = 9  # хорошая доступность сырья\n",
        "economic_condition = 2  # хорошая экономическая ситуация\n",
        "\n",
        "# Составляем список входных параметров\n",
        "inputs = [weather, cafe_rating, ingredient_availability, economic_condition]\n",
        "\n",
        "# Вычисляем взвешенную сумму\n",
        "weighted_sum_result = neuron_cafe_decision.weighted_sum(inputs)\n",
        "\n",
        "# Применяем функцию активации (ступенчатая)\n",
        "step_activation_result = neuron_cafe_decision.step_activation(weighted_sum_result)\n",
        "\n",
        "# Применяем функцию активации (сигмоидальная)\n",
        "sigmoid_activation_result = neuron_cafe_decision.sigmoid_activation(weighted_sum_result)\n",
        "\n",
        "# Выводим результаты\n",
        "print(f\"Взвешенная сумма: {weighted_sum_result}\")\n",
        "print(f\"Решение (ступенчатая функция): {step_activation_result}\")\n",
        "print(f\"Решение (сигмоидальная функция): {sigmoid_activation_result}\")\n",
        "\n"
      ],
      "metadata": {
        "id": "yr-i4FFg3DAf",
        "colab": {
          "base_uri": "https://localhost:8080/"
        },
        "outputId": "aad51f98-e3b4-4bd0-b121-970fc2719a6b"
      },
      "execution_count": 9,
      "outputs": [
        {
          "output_type": "stream",
          "name": "stdout",
          "text": [
            "Взвешенная сумма: -1.8\n",
            "Решение (ступенчатая функция): 0\n",
            "Решение (сигмоидальная функция): 0.14185106490048777\n"
          ]
        }
      ]
    }
  ]
}