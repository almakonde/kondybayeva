{
  "nbformat": 4,
  "nbformat_minor": 0,
  "metadata": {
    "colab": {
      "provenance": []
    },
    "kernelspec": {
      "name": "python3",
      "display_name": "Python 3"
    },
    "language_info": {
      "name": "python"
    }
  },
  "cells": [
    {
      "cell_type": "markdown",
      "source": [
        "**Навигация по уроку**\n",
        "\n",
        "1. [Введение в Data Science](https://colab.research.google.com/drive/1OzEE1Y-T_p8rqJHxAm7S8iO76Hx6Jox3)\n",
        "2. [Практика](https://colab.research.google.com/drive/1sPc9RcTh9oMzyLffhNorD-Hh2kQlMhCC)\n",
        "3. Домашняя работа"
      ],
      "metadata": {
        "id": "8LIWrmOPjBO6"
      }
    },
    {
      "cell_type": "markdown",
      "source": [
        "## Задача 1. Книги без буквы E."
      ],
      "metadata": {
        "id": "ZzjUAyrL6jgO"
      }
    },
    {
      "cell_type": "markdown",
      "source": [
        "**Условие.** В истории литературы известен случай написания романа объемом около\n",
        "50 тыс. слов, в котором ни разу не была употреблена самая популярная\n",
        "в английском алфавите буква E. Название его – «Gadsby».\n",
        "Напишите программу, которая будет считывать список слов из файла и собирать статистику о том, в каком проценте слов используется каждая буква алфавита. Выведите результат для всех 26 букв английского алфавита и отдельно отметьте букву, которая встречалась в словах наиболее редко. В  вашей программе должны игнорироваться знаки препинания и регистр символов.\n"
      ],
      "metadata": {
        "id": "M4OAOB6s6mU7"
      }
    },
    {
      "cell_type": "markdown",
      "source": [
        "**Подсказки.**\n",
        "1. Переведите все слова в верхний регистр:\n",
        "```\n",
        "word = word.upper().rstrip() # upper - переводит строку в верхний регистр\n",
        "```\n",
        "2. Создайте словарь со счетчиком слов, содержащий каждую букву\n",
        "```\n",
        "# Для каждой буквы инициализируем счетчик нулем\n",
        "counts = {}\n",
        "for ch in \"ABCDEFGHIJKLMNOPQRSTUVWXYZ\":\n",
        "       counts[ch] = 0\n",
        "```\n",
        "3. Наиболее редко используемое слово можно найти следующим образом:\n",
        "```\n",
        "smallest_count = min(counts.values()) # min - возвращает наименьшее число в списке\n",
        "```"
      ],
      "metadata": {
        "id": "1X5QIF1nryYd"
      }
    },
    {
      "cell_type": "code",
      "source": [
        "#Напишите свое решение\n",
        "import string\n",
        "\n",
        "def read_words(file_path, encoding='utf-8'):\n",
        "    with open(file_path, 'r', encoding=encoding, errors='replace') as file:\n",
        "        words = file.read().split()\n",
        "    return words\n",
        "\n",
        "\n",
        "def count_letters(words):\n",
        "    letter_count = {letter: 0 for letter in set(''.join(words).lower()) if letter.isalpha()}\n",
        "    total_letters = 0\n",
        "\n",
        "    for word in words:\n",
        "        word = word.lower()\n",
        "        for letter in word:\n",
        "            if letter.isalpha():\n",
        "                letter_count[letter] += 1\n",
        "                total_letters += 1\n",
        "\n",
        "    return letter_count, total_letters\n",
        "\n",
        "def calculate_percentages(letter_count, total_letters):\n",
        "    percentages = {letter: count / total_letters * 100 for letter, count in letter_count.items()}\n",
        "    return percentages\n",
        "\n",
        "def find_rarest_letter(percentages):\n",
        "    rarest_letter = min(percentages, key=percentages.get)\n",
        "    return rarest_letter\n",
        "\n",
        "def main():\n",
        "    file_path = 'garri-potter-i-filosofskij-kamen.txt'  # Замените 'your_file.txt' на путь к вашему файлу\n",
        "    words = read_words(file_path)\n",
        "\n",
        "    letter_count, total_letters = count_letters(words)\n",
        "    percentages = calculate_percentages(letter_count, total_letters)\n",
        "\n",
        "    print(\"Процент использования каждой буквы:\")\n",
        "    for letter, percentage in sorted(percentages.items()):\n",
        "        print(f\"{letter}: {percentage:.2f}%\")\n",
        "\n",
        "    rarest_letter = find_rarest_letter(percentages)\n",
        "    print(f\"\\nБуква, которая встречается наименее часто: {rarest_letter} ({percentages[rarest_letter]:.2f}%)\")\n",
        "\n",
        "if __name__ == \"__main__\":\n",
        "    main()\n"
      ],
      "metadata": {
        "id": "C2W-ZDOF6mzF",
        "colab": {
          "base_uri": "https://localhost:8080/"
        },
        "outputId": "dad603a4-9b9f-4dc7-feec-8563bd46dc81"
      },
      "execution_count": 4,
      "outputs": [
        {
          "output_type": "stream",
          "name": "stdout",
          "text": [
            "Процент использования каждой буквы:\n",
            "b: 0.47%\n",
            "c: 1.86%\n",
            "d: 0.47%\n",
            "e: 2.79%\n",
            "f: 0.47%\n",
            "g: 1.40%\n",
            "h: 1.40%\n",
            "i: 2.33%\n",
            "k: 1.40%\n",
            "l: 0.93%\n",
            "n: 0.47%\n",
            "o: 1.86%\n",
            "p: 1.40%\n",
            "r: 2.79%\n",
            "s: 0.47%\n",
            "t: 2.79%\n",
            "u: 0.93%\n",
            "v: 0.93%\n",
            "y: 0.47%\n",
            "ÿ: 1.40%\n",
            "ĩ: 0.93%\n",
            "ĸ: 48.37%\n",
            "ʌ: 0.93%\n",
            "ψ: 0.93%\n",
            "ϻ: 0.47%\n",
            "ш: 0.47%\n",
            "ҹ: 12.09%\n",
            "ջ: 0.47%\n",
            "ظ: 0.47%\n",
            "ễ: 0.47%\n",
            "兠: 1.40%\n",
            "帅: 0.93%\n",
            "帠: 0.47%\n",
            "腠: 0.47%\n",
            "腻: 0.47%\n",
            "軅: 0.47%\n",
            "ꅠ: 0.47%\n",
            "녠: 0.93%\n",
            "셠: 1.40%\n",
            "젗: 0.47%\n",
            "\n",
            "Буква, которая встречается наименее часто: s (0.47%)\n"
          ]
        }
      ]
    },
    {
      "cell_type": "markdown",
      "source": [
        "## Задание 2. Веб-скрейпинг ИИ новостей"
      ],
      "metadata": {
        "id": "m5K8F02cbJ3c"
      }
    },
    {
      "cell_type": "markdown",
      "source": [
        "**Описание задания.** Используя пример веб-скрейпинга практической части урока, проведите скрейпинг сайта с новостями из сферы ИИ (https://2051.vision/category/ii/), выведите на экран заголовки новостей."
      ],
      "metadata": {
        "id": "LPb3n5UqbRAD"
      }
    },
    {
      "cell_type": "code",
      "source": [
        "#Напишите свое решение\n",
        "!pip install requests beautifulsoup4\n",
        "\n",
        "import requests\n",
        "from bs4 import BeautifulSoup\n",
        "\n",
        "url = 'https://2051.vision/category/ii/'\n",
        "\n",
        "response = requests.get(url)\n",
        "\n",
        "if response.status_code == 200:\n",
        "    soup = BeautifulSoup(response.text, 'html.parser')\n",
        "\n",
        "    # Находим заголовки новостей\n",
        "    news_headlines = soup.select('.entry-title a')\n",
        "\n",
        "    # Выводим заголовки на экран\n",
        "    for index, headline in enumerate(news_headlines, start=1):\n",
        "        print(f\"{index}. {headline.text.strip()}\")\n",
        "\n",
        "else:\n",
        "    print(f\"Ошибка при получении страницы. Статус код: {response.status_code}\")"
      ],
      "metadata": {
        "id": "E2UFxRjFi_aW",
        "colab": {
          "base_uri": "https://localhost:8080/"
        },
        "outputId": "44e787cd-34a3-4e36-c406-01850706caa8"
      },
      "execution_count": 9,
      "outputs": [
        {
          "output_type": "stream",
          "name": "stdout",
          "text": [
            "Requirement already satisfied: requests in /usr/local/lib/python3.10/dist-packages (2.31.0)\n",
            "Requirement already satisfied: beautifulsoup4 in /usr/local/lib/python3.10/dist-packages (4.11.2)\n",
            "Requirement already satisfied: charset-normalizer<4,>=2 in /usr/local/lib/python3.10/dist-packages (from requests) (3.3.2)\n",
            "Requirement already satisfied: idna<4,>=2.5 in /usr/local/lib/python3.10/dist-packages (from requests) (3.4)\n",
            "Requirement already satisfied: urllib3<3,>=1.21.1 in /usr/local/lib/python3.10/dist-packages (from requests) (2.0.7)\n",
            "Requirement already satisfied: certifi>=2017.4.17 in /usr/local/lib/python3.10/dist-packages (from requests) (2023.7.22)\n",
            "Requirement already satisfied: soupsieve>1.2 in /usr/local/lib/python3.10/dist-packages (from beautifulsoup4) (2.5)\n",
            "1. Илон Маск объявил о запуске конкурента ChatGPT\n",
            "2. 25 стран приняли участие в саммите, посвященном безопасности ИИ в Лондоне\n",
            "3. Компания  LAION развивает проект Open Empathic на базе ИИ\n",
            "4. Умный курятник знает, чего хотят курицы\n",
            "5. Разработчики ИИ создали организацию для контроля за разработкой ИИ\n",
            "6. Геоскан и Сбер будут вместе развивать геоаналитику с помощью искусственного интеллекта\n",
            "7. Яндекс представил нейросеть для генерации картинок — YandexART\n",
            "8. ChatGPT теперь может выходить в интернет и генерировать картинки\n",
            "9. ИИ впервые обнаружил вспышку сверхновой без помощи человека\n",
            "10. Disney, возможно, использовала ИИ для создания постера «Локи»\n",
            "11. Росатом испытал мобильный лазер для очистки водной поверхности от нефти\n",
            "12. «Прогресс МС-24» увел Международную космическую станцию от возможного столкновения с космическим мусором\n",
            "13. Миссию dearMoon к Луне перенесли на неопределенный срок\n",
            "14. Japan Mobility Show 2023: что нового после пандемии?\n"
          ]
        }
      ]
    }
  ]
}